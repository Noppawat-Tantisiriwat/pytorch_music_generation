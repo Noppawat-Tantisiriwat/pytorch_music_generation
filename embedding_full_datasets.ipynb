{
 "cells": [
  {
   "cell_type": "code",
   "execution_count": 1,
   "metadata": {},
   "outputs": [],
   "source": [
    "import pandas as pd\n",
    "import numpy as np\n",
    "import matplotlib.pyplot as plt\n",
    "\n",
    "\n",
    "from tqdm import tqdm\n",
    "import pickle"
   ]
  },
  {
   "cell_type": "code",
   "execution_count": 2,
   "metadata": {},
   "outputs": [],
   "source": [
    "import torch\n",
    "import torch.nn as nn\n",
    "import torch.nn.functional as F\n",
    "from torch import optim\n",
    "from torch.utils.data import Dataset, DataLoader"
   ]
  },
  {
   "cell_type": "code",
   "execution_count": 3,
   "metadata": {},
   "outputs": [],
   "source": [
    "device = torch.device(\"cuda\")"
   ]
  },
  {
   "cell_type": "markdown",
   "metadata": {},
   "source": [
    "### ***Dataset***"
   ]
  },
  {
   "cell_type": "code",
   "execution_count": 4,
   "metadata": {},
   "outputs": [],
   "source": [
    "class MusicData(Dataset):\n",
    "\n",
    "\n",
    "    def __init__(self, pkl_path, sequence_length, use_embedding=False, subset=None):\n",
    "\n",
    "        self.sequence_length = sequence_length\n",
    "        self.use_embedding = use_embedding\n",
    "\n",
    "        with open(pkl_path, 'rb') as f:\n",
    "\n",
    "            self.notes = pickle.load(f)\n",
    "        if subset:\n",
    "\n",
    "            self.notes = self.notes[:subset]\n",
    "        \n",
    "        \n",
    "        self.n = len(set(self.notes))\n",
    "        self.pitchnames = sorted(set(item for item in self.notes))\n",
    "        self.note_to_int = dict((note, number) for number, note in enumerate(self.pitchnames))\n",
    "\n",
    "        data = []\n",
    "        label = []\n",
    "\n",
    "\n",
    "        for i in range(0, len(self.notes) - sequence_length, 1):\n",
    "            sequence_in = self.notes[i:i + sequence_length]\n",
    "            sequence_out = self.notes[i + sequence_length]\n",
    "            data.append([self.note_to_int[char] for char in sequence_in])\n",
    "            label.append(self.note_to_int[sequence_out])\n",
    "\n",
    "        n_patterns = len(data)\n",
    "\n",
    "\n",
    "        self.data = torch.tensor(np.reshape(data, (n_patterns, sequence_length, 1)))\n",
    "        #self.label = torch.tensor(label, dtype=torch.double)\n",
    "        self.label = label\n",
    "    def __len__(self):\n",
    "        return len(self.data)\n",
    "\n",
    "\n",
    "    def __getitem__(self, index):\n",
    "\n",
    "        x, y = self.data[index], self.label[index]\n",
    "\n",
    "        if self.use_embedding:\n",
    "            \n",
    "            return x, y\n",
    "\n",
    "        else:\n",
    "\n",
    "            x = x / float(self.n)\n",
    "\n",
    "            return x, y"
   ]
  },
  {
   "cell_type": "code",
   "execution_count": 5,
   "metadata": {},
   "outputs": [],
   "source": [
    "train_ds  = MusicData(\"notes_new_17-05-2022.pkl\", sequence_length=100, use_embedding=True, subset=None) # full_datasets"
   ]
  },
  {
   "cell_type": "code",
   "execution_count": 6,
   "metadata": {},
   "outputs": [],
   "source": [
    "trainloader = DataLoader(train_ds, batch_size=128, shuffle=True)"
   ]
  },
  {
   "cell_type": "code",
   "execution_count": 7,
   "metadata": {},
   "outputs": [
    {
     "data": {
      "text/plain": [
       "2757"
      ]
     },
     "execution_count": 7,
     "metadata": {},
     "output_type": "execute_result"
    }
   ],
   "source": [
    "train_ds.n"
   ]
  },
  {
   "cell_type": "markdown",
   "metadata": {},
   "source": [
    "### ***Model***"
   ]
  },
  {
   "cell_type": "code",
   "execution_count": 8,
   "metadata": {},
   "outputs": [],
   "source": [
    "class MusicEmbeddingBaseline(nn.Module):\n",
    "\n",
    "    def __init__(self, embedding_size, hidden_size, post_embedding, vocab_size, bidirectional):\n",
    "\n",
    "        super(MusicEmbeddingBaseline, self).__init__()\n",
    "\n",
    "        self.embedding_size = embedding_size\n",
    "        self.hidden_size = hidden_size\n",
    "        self.vocab_size = vocab_size\n",
    "        self.post_embedding = post_embedding\n",
    "        self.bidirectional = bidirectional\n",
    "\n",
    "        self.hidden_lstm_input = hidden_size * 2 if bidirectional else hidden_size\n",
    "\n",
    "\n",
    "        self.embedding_layer = nn.Embedding(train_ds.n, self.embedding_size)\n",
    "\n",
    "        self.base_lstm = nn.LSTM(embedding_size, hidden_size, bidirectional=bidirectional, batch_first=True)\n",
    "        self.hidden_lstm = nn.LSTM(self.hidden_lstm_input, self.hidden_lstm_input, batch_first=True)\n",
    "        self.output_lstm = nn.LSTM(self.hidden_lstm_input, self.post_embedding, batch_first=True)\n",
    "        self.classifier = nn.Linear(self.post_embedding, self.vocab_size)\n",
    "\n",
    "        #self.classifier_activation = torch.nn.Softmax(dim=-1)\n",
    "\n",
    "        \n",
    "    def init_hidden(self, size, bidirectional):\n",
    "        return (torch.zeros(1+ (1*int(bidirectional)), self.batch, size).to(device), torch.zeros(1+ (1*int(bidirectional)), self.batch, size).to(device))\n",
    "\n",
    "        \n",
    "    def forward(self, x):\n",
    "        \n",
    "        self.batch = x.shape[0]\n",
    "\n",
    "        h0, c0 = self.init_hidden(self.hidden_size, bidirectional=True)\n",
    "        h1, c1 = self.init_hidden(self.hidden_lstm_input, bidirectional=False)\n",
    "        h2, c2 = self.init_hidden(self.post_embedding, bidirectional=False)\n",
    "\n",
    "        x = self.embedding_layer(x)\n",
    "        #if len(x.shape) != 2:\n",
    "        x = torch.squeeze(x, dim=-2)\n",
    "    \n",
    "\n",
    "        o1, (h0, c0) = self.base_lstm(x, (h0, c0))\n",
    "        o2, (h1, c1) = self.hidden_lstm(o1, (h1, c1))\n",
    "        o3, (h2, c2) = self.output_lstm(o2, (h2, c2))\n",
    "\n",
    "        x = self.classifier(h2.view(self.batch, self.post_embedding))\n",
    "        #x = self.classifier_activation(x)\n",
    "\n",
    "\n",
    "        return x, (h0, h1, h2)\n",
    "\n"
   ]
  },
  {
   "cell_type": "code",
   "execution_count": 9,
   "metadata": {},
   "outputs": [],
   "source": [
    "model = MusicEmbeddingBaseline(embedding_size=50, hidden_size=512, post_embedding=128, vocab_size=train_ds.n, bidirectional=True).to(device)"
   ]
  },
  {
   "cell_type": "code",
   "execution_count": 10,
   "metadata": {},
   "outputs": [],
   "source": [
    "loss_function = torch.nn.CrossEntropyLoss()"
   ]
  },
  {
   "cell_type": "code",
   "execution_count": 13,
   "metadata": {},
   "outputs": [],
   "source": [
    "optimizer = optim.Adam(model.parameters(), lr=1e-4)"
   ]
  },
  {
   "cell_type": "code",
   "execution_count": 11,
   "metadata": {},
   "outputs": [],
   "source": [
    "epochs = 100"
   ]
  },
  {
   "cell_type": "markdown",
   "metadata": {},
   "source": [
    "### ***Training***"
   ]
  },
  {
   "cell_type": "code",
   "execution_count": 14,
   "metadata": {},
   "outputs": [
    {
     "name": "stderr",
     "output_type": "stream",
     "text": [
      "Epoch - 1 / 100: 100%|██████████| 9195/9195 [19:38<00:00,  7.80it/s, loss=5.34]\n"
     ]
    },
    {
     "name": "stdout",
     "output_type": "stream",
     "text": [
      "Average CrossEntropyLoss of Epoch 1 : 5.507537311031967\n"
     ]
    },
    {
     "name": "stderr",
     "output_type": "stream",
     "text": [
      "Epoch - 2 / 100: 100%|██████████| 9195/9195 [20:13<00:00,  7.58it/s, loss=4.42]\n"
     ]
    },
    {
     "name": "stdout",
     "output_type": "stream",
     "text": [
      "Average CrossEntropyLoss of Epoch 2 : 4.9221732701378205\n"
     ]
    },
    {
     "name": "stderr",
     "output_type": "stream",
     "text": [
      "Epoch - 3 / 100: 100%|██████████| 9195/9195 [19:54<00:00,  7.70it/s, loss=4.24]\n"
     ]
    },
    {
     "name": "stdout",
     "output_type": "stream",
     "text": [
      "Average CrossEntropyLoss of Epoch 3 : 4.348715535600012\n"
     ]
    },
    {
     "name": "stderr",
     "output_type": "stream",
     "text": [
      "Epoch - 4 / 100: 100%|██████████| 9195/9195 [19:45<00:00,  7.76it/s, loss=3.94]\n"
     ]
    },
    {
     "name": "stdout",
     "output_type": "stream",
     "text": [
      "Average CrossEntropyLoss of Epoch 4 : 4.006102962206192\n"
     ]
    },
    {
     "name": "stderr",
     "output_type": "stream",
     "text": [
      "Epoch - 5 / 100: 100%|██████████| 9195/9195 [19:47<00:00,  7.75it/s, loss=3.39]\n"
     ]
    },
    {
     "name": "stdout",
     "output_type": "stream",
     "text": [
      "Average CrossEntropyLoss of Epoch 5 : 3.731340155260889\n"
     ]
    },
    {
     "name": "stderr",
     "output_type": "stream",
     "text": [
      "Epoch - 6 / 100: 100%|██████████| 9195/9195 [19:39<00:00,  7.80it/s, loss=3.23]\n"
     ]
    },
    {
     "name": "stdout",
     "output_type": "stream",
     "text": [
      "Average CrossEntropyLoss of Epoch 6 : 3.479033564452822\n"
     ]
    },
    {
     "name": "stderr",
     "output_type": "stream",
     "text": [
      "Epoch - 7 / 100: 100%|██████████| 9195/9195 [19:37<00:00,  7.81it/s, loss=2.87]\n"
     ]
    },
    {
     "name": "stdout",
     "output_type": "stream",
     "text": [
      "Average CrossEntropyLoss of Epoch 7 : 3.2307634131666743\n"
     ]
    },
    {
     "name": "stderr",
     "output_type": "stream",
     "text": [
      "Epoch - 8 / 100: 100%|██████████| 9195/9195 [19:35<00:00,  7.82it/s, loss=2.7] \n"
     ]
    },
    {
     "name": "stdout",
     "output_type": "stream",
     "text": [
      "Average CrossEntropyLoss of Epoch 8 : 2.98029987181588\n"
     ]
    },
    {
     "name": "stderr",
     "output_type": "stream",
     "text": [
      "Epoch - 9 / 100: 100%|██████████| 9195/9195 [19:45<00:00,  7.76it/s, loss=2.64]\n"
     ]
    },
    {
     "name": "stdout",
     "output_type": "stream",
     "text": [
      "Average CrossEntropyLoss of Epoch 9 : 2.73128019510849\n"
     ]
    },
    {
     "name": "stderr",
     "output_type": "stream",
     "text": [
      "Epoch - 10 / 100: 100%|██████████| 9195/9195 [19:42<00:00,  7.78it/s, loss=2.34]\n"
     ]
    },
    {
     "name": "stdout",
     "output_type": "stream",
     "text": [
      "Average CrossEntropyLoss of Epoch 10 : 2.4875040280116845\n"
     ]
    },
    {
     "name": "stderr",
     "output_type": "stream",
     "text": [
      "Epoch - 11 / 100: 100%|██████████| 9195/9195 [19:40<00:00,  7.79it/s, loss=2.28]\n"
     ]
    },
    {
     "name": "stdout",
     "output_type": "stream",
     "text": [
      "Average CrossEntropyLoss of Epoch 11 : 2.2537060239896194\n"
     ]
    },
    {
     "name": "stderr",
     "output_type": "stream",
     "text": [
      "Epoch - 12 / 100: 100%|██████████| 9195/9195 [19:46<00:00,  7.75it/s, loss=2.21]\n"
     ]
    },
    {
     "name": "stdout",
     "output_type": "stream",
     "text": [
      "Average CrossEntropyLoss of Epoch 12 : 2.033407202510967\n"
     ]
    },
    {
     "name": "stderr",
     "output_type": "stream",
     "text": [
      "Epoch - 13 / 100: 100%|██████████| 9195/9195 [19:44<00:00,  7.77it/s, loss=1.86]\n"
     ]
    },
    {
     "name": "stdout",
     "output_type": "stream",
     "text": [
      "Average CrossEntropyLoss of Epoch 13 : 1.8285698751442436\n"
     ]
    },
    {
     "name": "stderr",
     "output_type": "stream",
     "text": [
      "Epoch - 14 / 100: 100%|██████████| 9195/9195 [19:47<00:00,  7.74it/s, loss=1.67] \n"
     ]
    },
    {
     "name": "stdout",
     "output_type": "stream",
     "text": [
      "Average CrossEntropyLoss of Epoch 14 : 1.6394858622987047\n"
     ]
    },
    {
     "name": "stderr",
     "output_type": "stream",
     "text": [
      "Epoch - 15 / 100: 100%|██████████| 9195/9195 [19:44<00:00,  7.76it/s, loss=1.58] \n"
     ]
    },
    {
     "name": "stdout",
     "output_type": "stream",
     "text": [
      "Average CrossEntropyLoss of Epoch 15 : 1.467328405161732\n"
     ]
    },
    {
     "name": "stderr",
     "output_type": "stream",
     "text": [
      "Epoch - 16 / 100: 100%|██████████| 9195/9195 [19:45<00:00,  7.75it/s, loss=1.15] \n"
     ]
    },
    {
     "name": "stdout",
     "output_type": "stream",
     "text": [
      "Average CrossEntropyLoss of Epoch 16 : 1.3112689473774217\n"
     ]
    },
    {
     "name": "stderr",
     "output_type": "stream",
     "text": [
      "Epoch - 17 / 100: 100%|██████████| 9195/9195 [19:46<00:00,  7.75it/s, loss=1.42] \n"
     ]
    },
    {
     "name": "stdout",
     "output_type": "stream",
     "text": [
      "Average CrossEntropyLoss of Epoch 17 : 1.1702452561814727\n"
     ]
    },
    {
     "name": "stderr",
     "output_type": "stream",
     "text": [
      "Epoch - 18 / 100: 100%|██████████| 9195/9195 [19:45<00:00,  7.75it/s, loss=1.13] \n"
     ]
    },
    {
     "name": "stdout",
     "output_type": "stream",
     "text": [
      "Average CrossEntropyLoss of Epoch 18 : 1.0436597136710528\n"
     ]
    },
    {
     "name": "stderr",
     "output_type": "stream",
     "text": [
      "Epoch - 19 / 100: 100%|██████████| 9195/9195 [19:46<00:00,  7.75it/s, loss=0.956]\n"
     ]
    },
    {
     "name": "stdout",
     "output_type": "stream",
     "text": [
      "Average CrossEntropyLoss of Epoch 19 : 0.9307440309977764\n"
     ]
    },
    {
     "name": "stderr",
     "output_type": "stream",
     "text": [
      "Epoch - 20 / 100: 100%|██████████| 9195/9195 [19:59<00:00,  7.66it/s, loss=0.825]\n"
     ]
    },
    {
     "name": "stdout",
     "output_type": "stream",
     "text": [
      "Average CrossEntropyLoss of Epoch 20 : 0.8291103557733134\n"
     ]
    },
    {
     "name": "stderr",
     "output_type": "stream",
     "text": [
      "Epoch - 21 / 100: 100%|██████████| 9195/9195 [20:10<00:00,  7.60it/s, loss=0.668]\n"
     ]
    },
    {
     "name": "stdout",
     "output_type": "stream",
     "text": [
      "Average CrossEntropyLoss of Epoch 21 : 0.7402422372018994\n"
     ]
    },
    {
     "name": "stderr",
     "output_type": "stream",
     "text": [
      "Epoch - 22 / 100: 100%|██████████| 9195/9195 [20:27<00:00,  7.49it/s, loss=0.713]\n"
     ]
    },
    {
     "name": "stdout",
     "output_type": "stream",
     "text": [
      "Average CrossEntropyLoss of Epoch 22 : 0.6618264811933436\n"
     ]
    },
    {
     "name": "stderr",
     "output_type": "stream",
     "text": [
      "Epoch - 23 / 100: 100%|██████████| 9195/9195 [20:26<00:00,  7.50it/s, loss=0.872]\n"
     ]
    },
    {
     "name": "stdout",
     "output_type": "stream",
     "text": [
      "Average CrossEntropyLoss of Epoch 23 : 0.5924449147289977\n"
     ]
    },
    {
     "name": "stderr",
     "output_type": "stream",
     "text": [
      "Epoch - 24 / 100: 100%|██████████| 9195/9195 [20:46<00:00,  7.38it/s, loss=0.402]\n"
     ]
    },
    {
     "name": "stdout",
     "output_type": "stream",
     "text": [
      "Average CrossEntropyLoss of Epoch 24 : 0.5323278030078813\n"
     ]
    },
    {
     "name": "stderr",
     "output_type": "stream",
     "text": [
      "Epoch - 25 / 100: 100%|██████████| 9195/9195 [20:53<00:00,  7.33it/s, loss=0.533]\n"
     ]
    },
    {
     "name": "stdout",
     "output_type": "stream",
     "text": [
      "Average CrossEntropyLoss of Epoch 25 : 0.4789391548515152\n"
     ]
    },
    {
     "name": "stderr",
     "output_type": "stream",
     "text": [
      "Epoch - 26 / 100: 100%|██████████| 9195/9195 [20:55<00:00,  7.32it/s, loss=0.342]\n"
     ]
    },
    {
     "name": "stdout",
     "output_type": "stream",
     "text": [
      "Average CrossEntropyLoss of Epoch 26 : 0.4341626658661439\n"
     ]
    },
    {
     "name": "stderr",
     "output_type": "stream",
     "text": [
      "Epoch - 27 / 100: 100%|██████████| 9195/9195 [21:04<00:00,  7.27it/s, loss=0.495]\n"
     ]
    },
    {
     "name": "stdout",
     "output_type": "stream",
     "text": [
      "Average CrossEntropyLoss of Epoch 27 : 0.3941067606567873\n"
     ]
    },
    {
     "name": "stderr",
     "output_type": "stream",
     "text": [
      "Epoch - 28 / 100: 100%|██████████| 9195/9195 [21:11<00:00,  7.23it/s, loss=0.626]\n"
     ]
    },
    {
     "name": "stdout",
     "output_type": "stream",
     "text": [
      "Average CrossEntropyLoss of Epoch 28 : 0.36034915149314944\n"
     ]
    },
    {
     "name": "stderr",
     "output_type": "stream",
     "text": [
      "Epoch - 29 / 100: 100%|██████████| 9195/9195 [20:57<00:00,  7.31it/s, loss=0.379]\n"
     ]
    },
    {
     "name": "stdout",
     "output_type": "stream",
     "text": [
      "Average CrossEntropyLoss of Epoch 29 : 0.3304007368509425\n"
     ]
    },
    {
     "name": "stderr",
     "output_type": "stream",
     "text": [
      "Epoch - 30 / 100: 100%|██████████| 9195/9195 [20:46<00:00,  7.38it/s, loss=0.299]\n"
     ]
    },
    {
     "name": "stdout",
     "output_type": "stream",
     "text": [
      "Average CrossEntropyLoss of Epoch 30 : 0.3052860644507818\n"
     ]
    },
    {
     "name": "stderr",
     "output_type": "stream",
     "text": [
      "Epoch - 31 / 100: 100%|██████████| 9195/9195 [20:37<00:00,  7.43it/s, loss=0.279]\n"
     ]
    },
    {
     "name": "stdout",
     "output_type": "stream",
     "text": [
      "Average CrossEntropyLoss of Epoch 31 : 0.28311599453660946\n"
     ]
    },
    {
     "name": "stderr",
     "output_type": "stream",
     "text": [
      "Epoch - 32 / 100: 100%|██████████| 9195/9195 [20:43<00:00,  7.40it/s, loss=0.298] \n"
     ]
    },
    {
     "name": "stdout",
     "output_type": "stream",
     "text": [
      "Average CrossEntropyLoss of Epoch 32 : 0.2637945859158814\n"
     ]
    },
    {
     "name": "stderr",
     "output_type": "stream",
     "text": [
      "Epoch - 33 / 100: 100%|██████████| 9195/9195 [20:42<00:00,  7.40it/s, loss=0.384] \n"
     ]
    },
    {
     "name": "stdout",
     "output_type": "stream",
     "text": [
      "Average CrossEntropyLoss of Epoch 33 : 0.24756967803339153\n"
     ]
    },
    {
     "name": "stderr",
     "output_type": "stream",
     "text": [
      "Epoch - 34 / 100: 100%|██████████| 9195/9195 [20:28<00:00,  7.48it/s, loss=0.425] \n"
     ]
    },
    {
     "name": "stdout",
     "output_type": "stream",
     "text": [
      "Average CrossEntropyLoss of Epoch 34 : 0.23115679764916608\n"
     ]
    },
    {
     "name": "stderr",
     "output_type": "stream",
     "text": [
      "Epoch - 35 / 100: 100%|██████████| 9195/9195 [20:28<00:00,  7.48it/s, loss=0.302] \n"
     ]
    },
    {
     "name": "stdout",
     "output_type": "stream",
     "text": [
      "Average CrossEntropyLoss of Epoch 35 : 0.2189365847069324\n"
     ]
    },
    {
     "name": "stderr",
     "output_type": "stream",
     "text": [
      "Epoch - 36 / 100: 100%|██████████| 9195/9195 [20:35<00:00,  7.44it/s, loss=0.173] \n"
     ]
    },
    {
     "name": "stdout",
     "output_type": "stream",
     "text": [
      "Average CrossEntropyLoss of Epoch 36 : 0.2068817109317394\n"
     ]
    },
    {
     "name": "stderr",
     "output_type": "stream",
     "text": [
      "Epoch - 37 / 100: 100%|██████████| 9195/9195 [20:38<00:00,  7.42it/s, loss=0.193] \n"
     ]
    },
    {
     "name": "stdout",
     "output_type": "stream",
     "text": [
      "Average CrossEntropyLoss of Epoch 37 : 0.1971166638820471\n"
     ]
    },
    {
     "name": "stderr",
     "output_type": "stream",
     "text": [
      "Epoch - 38 / 100: 100%|██████████| 9195/9195 [20:43<00:00,  7.39it/s, loss=0.321] \n"
     ]
    },
    {
     "name": "stdout",
     "output_type": "stream",
     "text": [
      "Average CrossEntropyLoss of Epoch 38 : 0.18828220497012946\n"
     ]
    },
    {
     "name": "stderr",
     "output_type": "stream",
     "text": [
      "Epoch - 39 / 100: 100%|██████████| 9195/9195 [20:44<00:00,  7.39it/s, loss=0.152] \n"
     ]
    },
    {
     "name": "stdout",
     "output_type": "stream",
     "text": [
      "Average CrossEntropyLoss of Epoch 39 : 0.18034448900486857\n"
     ]
    },
    {
     "name": "stderr",
     "output_type": "stream",
     "text": [
      "Epoch - 40 / 100: 100%|██████████| 9195/9195 [20:24<00:00,  7.51it/s, loss=0.25]  \n"
     ]
    },
    {
     "name": "stdout",
     "output_type": "stream",
     "text": [
      "Average CrossEntropyLoss of Epoch 40 : 0.17296711729633796\n"
     ]
    },
    {
     "name": "stderr",
     "output_type": "stream",
     "text": [
      "Epoch - 41 / 100: 100%|██████████| 9195/9195 [19:50<00:00,  7.72it/s, loss=0.232] \n"
     ]
    },
    {
     "name": "stdout",
     "output_type": "stream",
     "text": [
      "Average CrossEntropyLoss of Epoch 41 : 0.16706307710250506\n"
     ]
    },
    {
     "name": "stderr",
     "output_type": "stream",
     "text": [
      "Epoch - 42 / 100: 100%|██████████| 9195/9195 [19:47<00:00,  7.74it/s, loss=0.15]  \n"
     ]
    },
    {
     "name": "stdout",
     "output_type": "stream",
     "text": [
      "Average CrossEntropyLoss of Epoch 42 : 0.15987988468817207\n"
     ]
    },
    {
     "name": "stderr",
     "output_type": "stream",
     "text": [
      "Epoch - 43 / 100: 100%|██████████| 9195/9195 [19:27<00:00,  7.87it/s, loss=0.132] \n"
     ]
    },
    {
     "name": "stdout",
     "output_type": "stream",
     "text": [
      "Average CrossEntropyLoss of Epoch 43 : 0.1551353389690764\n"
     ]
    },
    {
     "name": "stderr",
     "output_type": "stream",
     "text": [
      "Epoch - 44 / 100: 100%|██████████| 9195/9195 [19:36<00:00,  7.82it/s, loss=0.182] \n"
     ]
    },
    {
     "name": "stdout",
     "output_type": "stream",
     "text": [
      "Average CrossEntropyLoss of Epoch 44 : 0.14884719194255053\n"
     ]
    },
    {
     "name": "stderr",
     "output_type": "stream",
     "text": [
      "Epoch - 45 / 100: 100%|██████████| 9195/9195 [19:40<00:00,  7.79it/s, loss=0.171] \n"
     ]
    },
    {
     "name": "stdout",
     "output_type": "stream",
     "text": [
      "Average CrossEntropyLoss of Epoch 45 : 0.1445990793620825\n"
     ]
    },
    {
     "name": "stderr",
     "output_type": "stream",
     "text": [
      "Epoch - 46 / 100: 100%|██████████| 9195/9195 [19:36<00:00,  7.81it/s, loss=0.204] \n"
     ]
    },
    {
     "name": "stdout",
     "output_type": "stream",
     "text": [
      "Average CrossEntropyLoss of Epoch 46 : 0.1407525705747899\n"
     ]
    },
    {
     "name": "stderr",
     "output_type": "stream",
     "text": [
      "Epoch - 47 / 100: 100%|██████████| 9195/9195 [19:30<00:00,  7.85it/s, loss=0.166] \n"
     ]
    },
    {
     "name": "stdout",
     "output_type": "stream",
     "text": [
      "Average CrossEntropyLoss of Epoch 47 : 0.13674596850915063\n"
     ]
    },
    {
     "name": "stderr",
     "output_type": "stream",
     "text": [
      "Epoch - 48 / 100: 100%|██████████| 9195/9195 [19:25<00:00,  7.89it/s, loss=0.136] \n"
     ]
    },
    {
     "name": "stdout",
     "output_type": "stream",
     "text": [
      "Average CrossEntropyLoss of Epoch 48 : 0.13350874388615164\n"
     ]
    },
    {
     "name": "stderr",
     "output_type": "stream",
     "text": [
      "Epoch - 49 / 100: 100%|██████████| 9195/9195 [19:46<00:00,  7.75it/s, loss=0.197] \n"
     ]
    },
    {
     "name": "stdout",
     "output_type": "stream",
     "text": [
      "Average CrossEntropyLoss of Epoch 49 : 0.1307884568788742\n"
     ]
    },
    {
     "name": "stderr",
     "output_type": "stream",
     "text": [
      "Epoch - 50 / 100: 100%|██████████| 9195/9195 [19:48<00:00,  7.74it/s, loss=0.115] \n"
     ]
    },
    {
     "name": "stdout",
     "output_type": "stream",
     "text": [
      "Average CrossEntropyLoss of Epoch 50 : 0.12651324449747717\n"
     ]
    },
    {
     "name": "stderr",
     "output_type": "stream",
     "text": [
      "Epoch - 51 / 100: 100%|██████████| 9195/9195 [19:47<00:00,  7.74it/s, loss=0.102] \n"
     ]
    },
    {
     "name": "stdout",
     "output_type": "stream",
     "text": [
      "Average CrossEntropyLoss of Epoch 51 : 0.12431796785985981\n"
     ]
    },
    {
     "name": "stderr",
     "output_type": "stream",
     "text": [
      "Epoch - 52 / 100: 100%|██████████| 9195/9195 [19:46<00:00,  7.75it/s, loss=0.15]  \n"
     ]
    },
    {
     "name": "stdout",
     "output_type": "stream",
     "text": [
      "Average CrossEntropyLoss of Epoch 52 : 0.121101307403839\n"
     ]
    },
    {
     "name": "stderr",
     "output_type": "stream",
     "text": [
      "Epoch - 53 / 100: 100%|██████████| 9195/9195 [19:51<00:00,  7.72it/s, loss=0.144] \n"
     ]
    },
    {
     "name": "stdout",
     "output_type": "stream",
     "text": [
      "Average CrossEntropyLoss of Epoch 53 : 0.1190675214654118\n"
     ]
    },
    {
     "name": "stderr",
     "output_type": "stream",
     "text": [
      "Epoch - 54 / 100: 100%|██████████| 9195/9195 [19:46<00:00,  7.75it/s, loss=0.121] \n"
     ]
    },
    {
     "name": "stdout",
     "output_type": "stream",
     "text": [
      "Average CrossEntropyLoss of Epoch 54 : 0.11576764515523139\n"
     ]
    },
    {
     "name": "stderr",
     "output_type": "stream",
     "text": [
      "Epoch - 55 / 100: 100%|██████████| 9195/9195 [19:43<00:00,  7.77it/s, loss=0.0709]\n"
     ]
    },
    {
     "name": "stdout",
     "output_type": "stream",
     "text": [
      "Average CrossEntropyLoss of Epoch 55 : 0.11398142019866553\n"
     ]
    },
    {
     "name": "stderr",
     "output_type": "stream",
     "text": [
      "Epoch - 56 / 100: 100%|██████████| 9195/9195 [19:43<00:00,  7.77it/s, loss=0.104] \n"
     ]
    },
    {
     "name": "stdout",
     "output_type": "stream",
     "text": [
      "Average CrossEntropyLoss of Epoch 56 : 0.11277221485852265\n"
     ]
    },
    {
     "name": "stderr",
     "output_type": "stream",
     "text": [
      "Epoch - 57 / 100: 100%|██████████| 9195/9195 [19:42<00:00,  7.77it/s, loss=0.103] \n"
     ]
    },
    {
     "name": "stdout",
     "output_type": "stream",
     "text": [
      "Average CrossEntropyLoss of Epoch 57 : 0.11061301906886754\n"
     ]
    },
    {
     "name": "stderr",
     "output_type": "stream",
     "text": [
      "Epoch - 58 / 100: 100%|██████████| 9195/9195 [19:43<00:00,  7.77it/s, loss=0.122] \n"
     ]
    },
    {
     "name": "stdout",
     "output_type": "stream",
     "text": [
      "Average CrossEntropyLoss of Epoch 58 : 0.1076733620565085\n"
     ]
    },
    {
     "name": "stderr",
     "output_type": "stream",
     "text": [
      "Epoch - 59 / 100: 100%|██████████| 9195/9195 [19:46<00:00,  7.75it/s, loss=0.0908]\n"
     ]
    },
    {
     "name": "stdout",
     "output_type": "stream",
     "text": [
      "Average CrossEntropyLoss of Epoch 59 : 0.10576496029537183\n"
     ]
    },
    {
     "name": "stderr",
     "output_type": "stream",
     "text": [
      "Epoch - 60 / 100: 100%|██████████| 9195/9195 [19:41<00:00,  7.78it/s, loss=0.101] \n"
     ]
    },
    {
     "name": "stdout",
     "output_type": "stream",
     "text": [
      "Average CrossEntropyLoss of Epoch 60 : 0.10327321911286995\n"
     ]
    },
    {
     "name": "stderr",
     "output_type": "stream",
     "text": [
      "Epoch - 61 / 100: 100%|██████████| 9195/9195 [19:38<00:00,  7.80it/s, loss=0.0508]\n"
     ]
    },
    {
     "name": "stdout",
     "output_type": "stream",
     "text": [
      "Average CrossEntropyLoss of Epoch 61 : 0.10258484918107247\n"
     ]
    },
    {
     "name": "stderr",
     "output_type": "stream",
     "text": [
      "Epoch - 62 / 100: 100%|██████████| 9195/9195 [19:49<00:00,  7.73it/s, loss=0.109] \n"
     ]
    },
    {
     "name": "stdout",
     "output_type": "stream",
     "text": [
      "Average CrossEntropyLoss of Epoch 62 : 0.10050287557586499\n"
     ]
    },
    {
     "name": "stderr",
     "output_type": "stream",
     "text": [
      "Epoch - 63 / 100: 100%|██████████| 9195/9195 [20:01<00:00,  7.66it/s, loss=0.0822]\n"
     ]
    },
    {
     "name": "stdout",
     "output_type": "stream",
     "text": [
      "Average CrossEntropyLoss of Epoch 63 : 0.0999213932796662\n"
     ]
    },
    {
     "name": "stderr",
     "output_type": "stream",
     "text": [
      "Epoch - 64 / 100: 100%|██████████| 9195/9195 [19:54<00:00,  7.70it/s, loss=0.0918]\n"
     ]
    },
    {
     "name": "stdout",
     "output_type": "stream",
     "text": [
      "Average CrossEntropyLoss of Epoch 64 : 0.09844301168376143\n"
     ]
    },
    {
     "name": "stderr",
     "output_type": "stream",
     "text": [
      "Epoch - 65 / 100: 100%|██████████| 9195/9195 [19:52<00:00,  7.71it/s, loss=0.129] \n"
     ]
    },
    {
     "name": "stdout",
     "output_type": "stream",
     "text": [
      "Average CrossEntropyLoss of Epoch 65 : 0.09684572442251069\n"
     ]
    },
    {
     "name": "stderr",
     "output_type": "stream",
     "text": [
      "Epoch - 66 / 100: 100%|██████████| 9195/9195 [19:56<00:00,  7.68it/s, loss=0.146] \n"
     ]
    },
    {
     "name": "stdout",
     "output_type": "stream",
     "text": [
      "Average CrossEntropyLoss of Epoch 66 : 0.09478299155167563\n"
     ]
    },
    {
     "name": "stderr",
     "output_type": "stream",
     "text": [
      "Epoch - 67 / 100: 100%|██████████| 9195/9195 [19:50<00:00,  7.72it/s, loss=0.155] \n"
     ]
    },
    {
     "name": "stdout",
     "output_type": "stream",
     "text": [
      "Average CrossEntropyLoss of Epoch 67 : 0.09409431836245022\n"
     ]
    },
    {
     "name": "stderr",
     "output_type": "stream",
     "text": [
      "Epoch - 68 / 100: 100%|██████████| 9195/9195 [19:26<00:00,  7.88it/s, loss=0.0556]\n"
     ]
    },
    {
     "name": "stdout",
     "output_type": "stream",
     "text": [
      "Average CrossEntropyLoss of Epoch 68 : 0.09331187930673317\n"
     ]
    },
    {
     "name": "stderr",
     "output_type": "stream",
     "text": [
      "Epoch - 69 / 100: 100%|██████████| 9195/9195 [19:49<00:00,  7.73it/s, loss=0.0827]\n"
     ]
    },
    {
     "name": "stdout",
     "output_type": "stream",
     "text": [
      "Average CrossEntropyLoss of Epoch 69 : 0.09155623233863898\n"
     ]
    },
    {
     "name": "stderr",
     "output_type": "stream",
     "text": [
      "Epoch - 70 / 100: 100%|██████████| 9195/9195 [19:31<00:00,  7.85it/s, loss=0.117] \n"
     ]
    },
    {
     "name": "stdout",
     "output_type": "stream",
     "text": [
      "Average CrossEntropyLoss of Epoch 70 : 0.09095063265228624\n"
     ]
    },
    {
     "name": "stderr",
     "output_type": "stream",
     "text": [
      "Epoch - 71 / 100: 100%|██████████| 9195/9195 [19:45<00:00,  7.76it/s, loss=0.04]  \n"
     ]
    },
    {
     "name": "stdout",
     "output_type": "stream",
     "text": [
      "Average CrossEntropyLoss of Epoch 71 : 0.0889305281246996\n"
     ]
    },
    {
     "name": "stderr",
     "output_type": "stream",
     "text": [
      "Epoch - 72 / 100: 100%|██████████| 9195/9195 [19:44<00:00,  7.76it/s, loss=0.0673]\n"
     ]
    },
    {
     "name": "stdout",
     "output_type": "stream",
     "text": [
      "Average CrossEntropyLoss of Epoch 72 : 0.08905830275083865\n"
     ]
    },
    {
     "name": "stderr",
     "output_type": "stream",
     "text": [
      "Epoch - 73 / 100: 100%|██████████| 9195/9195 [19:40<00:00,  7.79it/s, loss=0.104] \n"
     ]
    },
    {
     "name": "stdout",
     "output_type": "stream",
     "text": [
      "Average CrossEntropyLoss of Epoch 73 : 0.08761204936252816\n"
     ]
    },
    {
     "name": "stderr",
     "output_type": "stream",
     "text": [
      "Epoch - 74 / 100: 100%|██████████| 9195/9195 [19:37<00:00,  7.81it/s, loss=0.0649]\n"
     ]
    },
    {
     "name": "stdout",
     "output_type": "stream",
     "text": [
      "Average CrossEntropyLoss of Epoch 74 : 0.08619329099570529\n"
     ]
    },
    {
     "name": "stderr",
     "output_type": "stream",
     "text": [
      "Epoch - 75 / 100: 100%|██████████| 9195/9195 [19:45<00:00,  7.75it/s, loss=0.0904]\n"
     ]
    },
    {
     "name": "stdout",
     "output_type": "stream",
     "text": [
      "Average CrossEntropyLoss of Epoch 75 : 0.08552346534511077\n"
     ]
    },
    {
     "name": "stderr",
     "output_type": "stream",
     "text": [
      "Epoch - 76 / 100: 100%|██████████| 9195/9195 [19:41<00:00,  7.78it/s, loss=0.0665]\n"
     ]
    },
    {
     "name": "stdout",
     "output_type": "stream",
     "text": [
      "Average CrossEntropyLoss of Epoch 76 : 0.08451536325876874\n"
     ]
    },
    {
     "name": "stderr",
     "output_type": "stream",
     "text": [
      "Epoch - 77 / 100: 100%|██████████| 9195/9195 [19:46<00:00,  7.75it/s, loss=0.0521]\n"
     ]
    },
    {
     "name": "stdout",
     "output_type": "stream",
     "text": [
      "Average CrossEntropyLoss of Epoch 77 : 0.08385491558179113\n"
     ]
    },
    {
     "name": "stderr",
     "output_type": "stream",
     "text": [
      "Epoch - 78 / 100: 100%|██████████| 9195/9195 [19:47<00:00,  7.74it/s, loss=0.136] \n"
     ]
    },
    {
     "name": "stdout",
     "output_type": "stream",
     "text": [
      "Average CrossEntropyLoss of Epoch 78 : 0.08289111129678685\n"
     ]
    },
    {
     "name": "stderr",
     "output_type": "stream",
     "text": [
      "Epoch - 79 / 100: 100%|██████████| 9195/9195 [19:44<00:00,  7.76it/s, loss=0.104] \n"
     ]
    },
    {
     "name": "stdout",
     "output_type": "stream",
     "text": [
      "Average CrossEntropyLoss of Epoch 79 : 0.08112271222274724\n"
     ]
    },
    {
     "name": "stderr",
     "output_type": "stream",
     "text": [
      "Epoch - 80 / 100: 100%|██████████| 9195/9195 [19:52<00:00,  7.71it/s, loss=0.0651]\n"
     ]
    },
    {
     "name": "stdout",
     "output_type": "stream",
     "text": [
      "Average CrossEntropyLoss of Epoch 80 : 0.08106754818687532\n"
     ]
    },
    {
     "name": "stderr",
     "output_type": "stream",
     "text": [
      "Epoch - 81 / 100: 100%|██████████| 9195/9195 [19:48<00:00,  7.73it/s, loss=0.0538]\n"
     ]
    },
    {
     "name": "stdout",
     "output_type": "stream",
     "text": [
      "Average CrossEntropyLoss of Epoch 81 : 0.08035566109483787\n"
     ]
    },
    {
     "name": "stderr",
     "output_type": "stream",
     "text": [
      "Epoch - 82 / 100: 100%|██████████| 9195/9195 [19:51<00:00,  7.72it/s, loss=0.0458]\n"
     ]
    },
    {
     "name": "stdout",
     "output_type": "stream",
     "text": [
      "Average CrossEntropyLoss of Epoch 82 : 0.0793434999756762\n"
     ]
    },
    {
     "name": "stderr",
     "output_type": "stream",
     "text": [
      "Epoch - 83 / 100: 100%|██████████| 9195/9195 [19:50<00:00,  7.73it/s, loss=0.0597]\n"
     ]
    },
    {
     "name": "stdout",
     "output_type": "stream",
     "text": [
      "Average CrossEntropyLoss of Epoch 83 : 0.07887393956951819\n"
     ]
    },
    {
     "name": "stderr",
     "output_type": "stream",
     "text": [
      "Epoch - 84 / 100: 100%|██████████| 9195/9195 [19:52<00:00,  7.71it/s, loss=0.119] \n"
     ]
    },
    {
     "name": "stdout",
     "output_type": "stream",
     "text": [
      "Average CrossEntropyLoss of Epoch 84 : 0.07806418428927589\n"
     ]
    },
    {
     "name": "stderr",
     "output_type": "stream",
     "text": [
      "Epoch - 85 / 100: 100%|██████████| 9195/9195 [19:50<00:00,  7.73it/s, loss=0.0857]\n"
     ]
    },
    {
     "name": "stdout",
     "output_type": "stream",
     "text": [
      "Average CrossEntropyLoss of Epoch 85 : 0.07649422200062031\n"
     ]
    },
    {
     "name": "stderr",
     "output_type": "stream",
     "text": [
      "Epoch - 86 / 100: 100%|██████████| 9195/9195 [19:53<00:00,  7.71it/s, loss=0.0809]\n"
     ]
    },
    {
     "name": "stdout",
     "output_type": "stream",
     "text": [
      "Average CrossEntropyLoss of Epoch 86 : 0.07634749035707886\n"
     ]
    },
    {
     "name": "stderr",
     "output_type": "stream",
     "text": [
      "Epoch - 87 / 100: 100%|██████████| 9195/9195 [19:52<00:00,  7.71it/s, loss=0.0661]\n"
     ]
    },
    {
     "name": "stdout",
     "output_type": "stream",
     "text": [
      "Average CrossEntropyLoss of Epoch 87 : 0.07582393650180536\n"
     ]
    },
    {
     "name": "stderr",
     "output_type": "stream",
     "text": [
      "Epoch - 88 / 100: 100%|██████████| 9195/9195 [19:54<00:00,  7.70it/s, loss=0.0562]\n"
     ]
    },
    {
     "name": "stdout",
     "output_type": "stream",
     "text": [
      "Average CrossEntropyLoss of Epoch 88 : 0.07511140790521191\n"
     ]
    },
    {
     "name": "stderr",
     "output_type": "stream",
     "text": [
      "Epoch - 89 / 100: 100%|██████████| 9195/9195 [19:55<00:00,  7.69it/s, loss=0.0464]\n"
     ]
    },
    {
     "name": "stdout",
     "output_type": "stream",
     "text": [
      "Average CrossEntropyLoss of Epoch 89 : 0.07462854222819287\n"
     ]
    },
    {
     "name": "stderr",
     "output_type": "stream",
     "text": [
      "Epoch - 90 / 100: 100%|██████████| 9195/9195 [19:54<00:00,  7.70it/s, loss=0.0444]\n"
     ]
    },
    {
     "name": "stdout",
     "output_type": "stream",
     "text": [
      "Average CrossEntropyLoss of Epoch 90 : 0.07520003672383296\n"
     ]
    },
    {
     "name": "stderr",
     "output_type": "stream",
     "text": [
      "Epoch - 91 / 100: 100%|██████████| 9195/9195 [19:51<00:00,  7.72it/s, loss=0.11]  \n"
     ]
    },
    {
     "name": "stdout",
     "output_type": "stream",
     "text": [
      "Average CrossEntropyLoss of Epoch 91 : 0.07303145949687023\n"
     ]
    },
    {
     "name": "stderr",
     "output_type": "stream",
     "text": [
      "Epoch - 92 / 100: 100%|██████████| 9195/9195 [19:50<00:00,  7.73it/s, loss=0.0425]\n"
     ]
    },
    {
     "name": "stdout",
     "output_type": "stream",
     "text": [
      "Average CrossEntropyLoss of Epoch 92 : 0.07276454363726541\n"
     ]
    },
    {
     "name": "stderr",
     "output_type": "stream",
     "text": [
      "Epoch - 93 / 100: 100%|██████████| 9195/9195 [19:53<00:00,  7.70it/s, loss=0.0546]\n"
     ]
    },
    {
     "name": "stdout",
     "output_type": "stream",
     "text": [
      "Average CrossEntropyLoss of Epoch 93 : 0.07264142886777028\n"
     ]
    },
    {
     "name": "stderr",
     "output_type": "stream",
     "text": [
      "Epoch - 94 / 100: 100%|██████████| 9195/9195 [20:53<00:00,  7.33it/s, loss=0.0771]\n"
     ]
    },
    {
     "name": "stdout",
     "output_type": "stream",
     "text": [
      "Average CrossEntropyLoss of Epoch 94 : 0.07180869014390123\n"
     ]
    },
    {
     "name": "stderr",
     "output_type": "stream",
     "text": [
      "Epoch - 95 / 100: 100%|██████████| 9195/9195 [22:02<00:00,  6.95it/s, loss=0.0816]\n"
     ]
    },
    {
     "name": "stdout",
     "output_type": "stream",
     "text": [
      "Average CrossEntropyLoss of Epoch 95 : 0.07141515612588308\n"
     ]
    },
    {
     "name": "stderr",
     "output_type": "stream",
     "text": [
      "Epoch - 96 / 100: 100%|██████████| 9195/9195 [22:28<00:00,  6.82it/s, loss=0.0432]\n"
     ]
    },
    {
     "name": "stdout",
     "output_type": "stream",
     "text": [
      "Average CrossEntropyLoss of Epoch 96 : 0.07089878051057061\n"
     ]
    },
    {
     "name": "stderr",
     "output_type": "stream",
     "text": [
      "Epoch - 97 / 100: 100%|██████████| 9195/9195 [23:05<00:00,  6.64it/s, loss=0.0631]\n"
     ]
    },
    {
     "name": "stdout",
     "output_type": "stream",
     "text": [
      "Average CrossEntropyLoss of Epoch 97 : 0.07051067418865191\n"
     ]
    },
    {
     "name": "stderr",
     "output_type": "stream",
     "text": [
      "Epoch - 98 / 100: 100%|██████████| 9195/9195 [23:11<00:00,  6.61it/s, loss=0.206] \n"
     ]
    },
    {
     "name": "stdout",
     "output_type": "stream",
     "text": [
      "Average CrossEntropyLoss of Epoch 98 : 0.0700932053316278\n"
     ]
    },
    {
     "name": "stderr",
     "output_type": "stream",
     "text": [
      "Epoch - 99 / 100: 100%|██████████| 9195/9195 [23:44<00:00,  6.45it/s, loss=0.0994]\n"
     ]
    },
    {
     "name": "stdout",
     "output_type": "stream",
     "text": [
      "Average CrossEntropyLoss of Epoch 99 : 0.0688885119113611\n"
     ]
    },
    {
     "name": "stderr",
     "output_type": "stream",
     "text": [
      "Epoch - 100 / 100: 100%|██████████| 9195/9195 [22:14<00:00,  6.89it/s, loss=0.0503]"
     ]
    },
    {
     "name": "stdout",
     "output_type": "stream",
     "text": [
      "Average CrossEntropyLoss of Epoch 100 : 0.06855029869691813\n",
      "Finish training !\n"
     ]
    },
    {
     "name": "stderr",
     "output_type": "stream",
     "text": [
      "\n"
     ]
    }
   ],
   "source": [
    "running_loss = []\n",
    "for i in range(epochs):\n",
    "    \n",
    "    model.train()\n",
    "\n",
    "    # epoch loss\n",
    "    epoch_loss = 0\n",
    "    \n",
    "    ## Training with loss logging\n",
    "    pbar = tqdm(trainloader)\n",
    "    pbar.set_description(f\"Epoch - {i + 1} / {epochs}\")\n",
    "    for data, label in pbar:\n",
    "\n",
    "        data, label = data.to(device), label.to(device)\n",
    "        \n",
    "        optimizer.zero_grad()\n",
    "\n",
    "        pred, hidden = model(data)\n",
    "\n",
    "        loss = loss_function(pred, label)\n",
    "\n",
    "        loss.backward()\n",
    "\n",
    "        optimizer.step()\n",
    "\n",
    "        epoch_loss += loss.item() * data.size(0)\n",
    "        pbar.set_postfix({\"loss\" : loss.item()})\n",
    "    \n",
    "\n",
    "    print(f\"Average CrossEntropyLoss of Epoch {i + 1} : {epoch_loss / len(trainloader.dataset)}\")\n",
    "    running_loss.append(epoch_loss / len(trainloader.dataset))\n",
    "\n",
    "\n",
    "print(\"Finish training !\")"
   ]
  },
  {
   "cell_type": "code",
   "execution_count": 15,
   "metadata": {},
   "outputs": [],
   "source": [
    "torch.save(model.state_dict() ,\"embedded_model_fulldata_100_epochs.pt\")"
   ]
  },
  {
   "cell_type": "code",
   "execution_count": 23,
   "metadata": {},
   "outputs": [
    {
     "data": {
      "text/plain": [
       "[<matplotlib.lines.Line2D at 0x1eecea6e400>]"
      ]
     },
     "execution_count": 23,
     "metadata": {},
     "output_type": "execute_result"
    },
    {
     "data": {
      "image/png": "[encoded data removed]",
      "text/plain": [
       "<Figure size 432x288 with 1 Axes>"
      ]
     },
     "metadata": {
      "image/png": {
       "height": 248,
       "width": 362
      },
      "needs_background": "light"
     },
     "output_type": "display_data"
    }
   ],
   "source": [
    "import matplotlib.pyplot as plt\n",
    "\n",
    "\n",
    "plt.plot(np.arange(epochs), running_loss)"
   ]
  },
  {
   "cell_type": "markdown",
   "metadata": {},
   "source": [
    "### ***Reload pre-trained Model***"
   ]
  },
  {
   "cell_type": "code",
   "execution_count": 16,
   "metadata": {},
   "outputs": [],
   "source": [
    "loaded = MusicEmbeddingBaseline(embedding_size=50, hidden_size=512, post_embedding=128, vocab_size=train_ds.n, bidirectional=True)"
   ]
  },
  {
   "cell_type": "code",
   "execution_count": 17,
   "metadata": {},
   "outputs": [
    {
     "data": {
      "text/plain": [
       "<All keys matched successfully>"
      ]
     },
     "execution_count": 17,
     "metadata": {},
     "output_type": "execute_result"
    }
   ],
   "source": [
    "loaded.load_state_dict(torch.load(\"embedded_model_fulldata_100_epochs.pt\"))"
   ]
  },
  {
   "cell_type": "code",
   "execution_count": 18,
   "metadata": {},
   "outputs": [
    {
     "data": {
      "text/plain": [
       "MusicEmbeddingBaseline(\n",
       "  (embedding_layer): Embedding(2757, 50)\n",
       "  (base_lstm): LSTM(50, 512, batch_first=True, bidirectional=True)\n",
       "  (hidden_lstm): LSTM(1024, 1024, batch_first=True)\n",
       "  (output_lstm): LSTM(1024, 128, batch_first=True)\n",
       "  (classifier): Linear(in_features=128, out_features=2757, bias=True)\n",
       ")"
      ]
     },
     "execution_count": 18,
     "metadata": {},
     "output_type": "execute_result"
    }
   ],
   "source": [
    "loaded"
   ]
  },
  {
   "cell_type": "markdown",
   "metadata": {},
   "source": [
    "### ***Evaluation***"
   ]
  },
  {
   "cell_type": "code",
   "execution_count": 24,
   "metadata": {},
   "outputs": [],
   "source": [
    "### utils function that writes .midi files\n",
    "\n",
    "def create_midi(prediction_output):\n",
    "    from music21 import note, chord, instrument, stream\n",
    "    offset = 0\n",
    "    output_notes = []\n",
    "\n",
    "        # create note and chord objects based on the values generated by the model\n",
    "    for pattern in prediction_output:\n",
    "            # pattern is a chord\n",
    "        if ('.' in pattern) or pattern.isdigit():\n",
    "            notes_in_chord = pattern.split('.')\n",
    "            notes = []\n",
    "            for current_note in notes_in_chord:\n",
    "                new_note = note.Note(int(current_note))\n",
    "                new_note.storedInstrument = instrument.Piano()\n",
    "                notes.append(new_note)\n",
    "            new_chord = chord.Chord(notes)\n",
    "            new_chord.offset = offset\n",
    "            output_notes.append(new_chord)\n",
    "            # pattern is a note\n",
    "        else:\n",
    "            new_note = note.Note(pattern)\n",
    "            new_note.offset = offset\n",
    "            new_note.storedInstrument = instrument.Piano()\n",
    "            output_notes.append(new_note)\n",
    "\n",
    "            # increase offset each iteration so that notes do not stack\n",
    "        offset += 0.25\n",
    "\n",
    "    midi_stream = stream.Stream(output_notes)\n",
    "\n",
    "    midi_stream.write(\"midi\", fp=\"test_midi_fulldata_02.mid\")"
   ]
  },
  {
   "cell_type": "code",
   "execution_count": 25,
   "metadata": {},
   "outputs": [
    {
     "name": "stderr",
     "output_type": "stream",
     "text": [
      "100%|██████████| 500/500 [00:05<00:00, 90.81it/s]\n"
     ]
    }
   ],
   "source": [
    "testing_model = loaded.eval().to(device)\n",
    "\n",
    "start = np.random.randint(0, len(train_ds.data)-1)\n",
    "\n",
    "\n",
    "pitchnames = sorted(set(item for item in train_ds.notes))\n",
    "int_to_note = dict((number, note) for number, note in enumerate(pitchnames))\n",
    "pattern = train_ds.data[start]\n",
    "window_size = train_ds.sequence_length\n",
    "prediction_output = []\n",
    "\n",
    "# doing auto regressive generation\n",
    "for note_indx in tqdm(range(500)):\n",
    "    prediction_input = pattern.view(1, len(pattern), 1).to(device)[:, note_indx:note_indx+window_size, :]\n",
    "\n",
    "    prediction, _ = testing_model(prediction_input)\n",
    "    # get prediction\n",
    "    index = torch.argmax(prediction, dim=-1)\n",
    "    \n",
    "    # get note from prediction\n",
    "    result = int_to_note[index.item()]\n",
    "    # add to output\n",
    "    prediction_output.append(result)\n",
    "    # add predicted note to the input sequence\n",
    "    pattern = torch.cat((pattern.cpu(), torch.unsqueeze(index.cpu(), dim=0)), dim=0)\n",
    "\n",
    "    \n",
    "\n",
    "create_midi(prediction_output)"
   ]
  },
  {
   "cell_type": "code",
   "execution_count": 26,
   "metadata": {},
   "outputs": [
    {
     "data": {
      "text/plain": [
       "['10.2.5',\n",
       " '10',\n",
       " '10.2.5',\n",
       " 'B-2',\n",
       " '4.10',\n",
       " 'B-2',\n",
       " '10.2.5',\n",
       " '9',\n",
       " '5.9.0',\n",
       " '9',\n",
       " 'F2',\n",
       " '9',\n",
       " '5.9.0',\n",
       " '9',\n",
       " '5.9.0',\n",
       " '9',\n",
       " '7.9.0',\n",
       " '5.9',\n",
       " '7',\n",
       " '5.9',\n",
       " '7',\n",
       " '7',\n",
       " '5.9',\n",
       " '9',\n",
       " '7.10.2',\n",
       " '7.10.2',\n",
       " '7.10.2',\n",
       " '7.10.2',\n",
       " '7.10.2',\n",
       " '7.10.2',\n",
       " '7.10.2',\n",
       " 'D5',\n",
       " 'D3',\n",
       " '2.7',\n",
       " 'G3',\n",
       " 'D4',\n",
       " 'G4',\n",
       " 'G3',\n",
       " 'G4',\n",
       " 'B-4',\n",
       " 'G3',\n",
       " 'B-4',\n",
       " 'B-4',\n",
       " 'D4',\n",
       " 'D4',\n",
       " 'B-4',\n",
       " 'B-3',\n",
       " 'B-4',\n",
       " 'C4',\n",
       " 'B-4',\n",
       " 'C4',\n",
       " '0.4',\n",
       " 'G3',\n",
       " '0.4',\n",
       " 'C4',\n",
       " '0.4',\n",
       " 'C4',\n",
       " '2',\n",
       " 'C4',\n",
       " '2',\n",
       " 'A3',\n",
       " 'A3',\n",
       " '2',\n",
       " 'A3',\n",
       " 'D4',\n",
       " '5',\n",
       " 'D4',\n",
       " '5',\n",
       " 'D4',\n",
       " '5',\n",
       " 'C4',\n",
       " '5',\n",
       " '9.0',\n",
       " '5',\n",
       " 'E3',\n",
       " '9',\n",
       " 'E3',\n",
       " '9',\n",
       " '7.0',\n",
       " '7.0',\n",
       " 'C4',\n",
       " '5',\n",
       " 'A3',\n",
       " '5',\n",
       " 'E3',\n",
       " '9.0',\n",
       " 'E3',\n",
       " '9.0',\n",
       " 'A3',\n",
       " '5',\n",
       " '5.9',\n",
       " 'G3',\n",
       " '5.9',\n",
       " 'G3',\n",
       " '5.9',\n",
       " 'G3',\n",
       " 'G3',\n",
       " 'A3',\n",
       " '5.9',\n",
       " '5.9',\n",
       " 'F4',\n",
       " '5.9',\n",
       " 'E4',\n",
       " 'E4',\n",
       " 'B4',\n",
       " 'C5',\n",
       " 'B4',\n",
       " 'C5',\n",
       " '2.7',\n",
       " 'A3',\n",
       " '2.7',\n",
       " 'A3',\n",
       " '7.11',\n",
       " 'D3',\n",
       " '2.7',\n",
       " 'D3',\n",
       " 'G3',\n",
       " 'A3',\n",
       " 'C4',\n",
       " 'A3',\n",
       " 'D4',\n",
       " 'E4',\n",
       " 'E4',\n",
       " 'E4',\n",
       " 'E4',\n",
       " '9.2',\n",
       " '9.2',\n",
       " '9.2',\n",
       " '9.2',\n",
       " 'A3',\n",
       " '9.2',\n",
       " 'A3',\n",
       " 'A3',\n",
       " '9.2',\n",
       " 'A3',\n",
       " '9.2',\n",
       " '7.0',\n",
       " '7.0',\n",
       " '7.0',\n",
       " '11.4',\n",
       " '11.4',\n",
       " '11.4',\n",
       " '2.7',\n",
       " '2.7',\n",
       " '2.7',\n",
       " 'G3',\n",
       " '2.7',\n",
       " 'G3',\n",
       " 'A3',\n",
       " 'A3',\n",
       " '2.7',\n",
       " 'A3',\n",
       " '2.7',\n",
       " '2.7',\n",
       " '2.7',\n",
       " '2.7',\n",
       " '5.9.0',\n",
       " '5.9.0',\n",
       " '2.7',\n",
       " 'C4',\n",
       " '2.7',\n",
       " 'C4',\n",
       " '2.7',\n",
       " 'C4',\n",
       " '2.7',\n",
       " 'C4',\n",
       " '2.7',\n",
       " 'C4',\n",
       " '2.7',\n",
       " 'C4',\n",
       " '2.7',\n",
       " 'B3',\n",
       " '2.7',\n",
       " 'B3',\n",
       " '2.7',\n",
       " 'B3',\n",
       " '2.7',\n",
       " 'B3',\n",
       " '2.7',\n",
       " 'B3',\n",
       " '2.7',\n",
       " 'B3',\n",
       " '2.7',\n",
       " '11.4',\n",
       " '11.4',\n",
       " '5.9.0',\n",
       " 'F5',\n",
       " 'F3',\n",
       " '4.9',\n",
       " 'C5',\n",
       " '4.9',\n",
       " 'C5',\n",
       " '4.9',\n",
       " 'C5',\n",
       " '4.9',\n",
       " 'C5',\n",
       " '7.9.2',\n",
       " '9.2',\n",
       " '5',\n",
       " 'C5',\n",
       " '5',\n",
       " '9.2',\n",
       " 'C5',\n",
       " '7',\n",
       " '9.2',\n",
       " '7',\n",
       " '9.2',\n",
       " '7',\n",
       " '9',\n",
       " '7',\n",
       " '9',\n",
       " '7',\n",
       " 'G3',\n",
       " 'G3',\n",
       " 'G3',\n",
       " '9.1',\n",
       " '9',\n",
       " '7.9.0',\n",
       " '7.9.0',\n",
       " '2.7',\n",
       " '2.7',\n",
       " 'G1',\n",
       " 'G2',\n",
       " '7',\n",
       " 'G2',\n",
       " '4.9',\n",
       " '4.9',\n",
       " '4.9',\n",
       " 'A2',\n",
       " '2.5.9',\n",
       " '5',\n",
       " '2.5.9',\n",
       " '7.0',\n",
       " '2.5.9',\n",
       " '2.5.9',\n",
       " '7.0',\n",
       " '2.5.9',\n",
       " '9.2',\n",
       " 'G3',\n",
       " '9',\n",
       " 'G3',\n",
       " '9',\n",
       " '7.0',\n",
       " '7.9.0',\n",
       " '7.9.0',\n",
       " '9.0.4',\n",
       " '10.0.5',\n",
       " '2.4.9',\n",
       " '9',\n",
       " '9',\n",
       " '7',\n",
       " '7.9',\n",
       " '9',\n",
       " '7',\n",
       " '9',\n",
       " '5.9',\n",
       " '9',\n",
       " '5.9',\n",
       " '9',\n",
       " '7',\n",
       " 'D5',\n",
       " '7',\n",
       " 'D5',\n",
       " '9',\n",
       " 'E5',\n",
       " '9',\n",
       " 'E5',\n",
       " 'G3',\n",
       " 'E5',\n",
       " 'G3',\n",
       " 'B3',\n",
       " 'E5',\n",
       " 'B3',\n",
       " 'A3',\n",
       " 'E5',\n",
       " 'A3',\n",
       " 'E5',\n",
       " '0.4',\n",
       " 'E4',\n",
       " '0.4',\n",
       " 'E4',\n",
       " '0.4',\n",
       " 'G3',\n",
       " '0.4',\n",
       " 'G3',\n",
       " '0.4',\n",
       " 'G3',\n",
       " '0.4',\n",
       " 'F3',\n",
       " '0.4',\n",
       " 'F3',\n",
       " '0.4',\n",
       " 'F3',\n",
       " '0.4',\n",
       " 'F3',\n",
       " '2',\n",
       " '2',\n",
       " '0',\n",
       " '0.5',\n",
       " '0',\n",
       " '0.5',\n",
       " '2',\n",
       " '0.5',\n",
       " '9',\n",
       " '0',\n",
       " '0',\n",
       " '5',\n",
       " '0',\n",
       " '0',\n",
       " '5',\n",
       " '5',\n",
       " 'C4',\n",
       " '0',\n",
       " 'C4',\n",
       " '0',\n",
       " 'C4',\n",
       " '0',\n",
       " 'C4',\n",
       " '0',\n",
       " 'G3',\n",
       " 'B-3',\n",
       " '0',\n",
       " 'B-3',\n",
       " '0',\n",
       " 'B-3',\n",
       " '0',\n",
       " 'B-3',\n",
       " '0',\n",
       " 'B-3',\n",
       " '0',\n",
       " '2',\n",
       " 'D3',\n",
       " '2',\n",
       " 'D3',\n",
       " '10',\n",
       " '0',\n",
       " 'D3',\n",
       " '10',\n",
       " 'D3',\n",
       " '10',\n",
       " 'D3',\n",
       " '10',\n",
       " 'D3',\n",
       " '10',\n",
       " 'D3',\n",
       " '10',\n",
       " '9',\n",
       " '9.2',\n",
       " 'D1',\n",
       " '9',\n",
       " 'D1',\n",
       " '2',\n",
       " '9',\n",
       " 'D1',\n",
       " '11',\n",
       " 'D1',\n",
       " '2',\n",
       " 'E3',\n",
       " '2',\n",
       " 'E3',\n",
       " '2',\n",
       " 'E3',\n",
       " '2',\n",
       " 'G3',\n",
       " 'B3',\n",
       " 'G3',\n",
       " '2',\n",
       " 'G3',\n",
       " '2',\n",
       " 'B3',\n",
       " 'B3',\n",
       " '6.9',\n",
       " 'B3',\n",
       " '6.9',\n",
       " 'D3',\n",
       " 'D3',\n",
       " 'D4',\n",
       " 'D3',\n",
       " 'E4',\n",
       " 'E4',\n",
       " '2',\n",
       " 'G4',\n",
       " '2',\n",
       " 'G4',\n",
       " '2',\n",
       " 'G4',\n",
       " '2',\n",
       " 'G4',\n",
       " '2',\n",
       " 'G4',\n",
       " 'G4',\n",
       " 'G4',\n",
       " '9.1',\n",
       " 'G4',\n",
       " '9.1',\n",
       " '9.1',\n",
       " '9.1',\n",
       " 'A2',\n",
       " '9.1',\n",
       " 'A2',\n",
       " '9.1',\n",
       " 'A1',\n",
       " '7',\n",
       " '7',\n",
       " '7',\n",
       " '4.9',\n",
       " 'A2',\n",
       " '4.9',\n",
       " '1.4',\n",
       " 'A2',\n",
       " '4.9',\n",
       " '4.9',\n",
       " '4.9',\n",
       " '1',\n",
       " '4.9',\n",
       " '1',\n",
       " '4.9',\n",
       " '1',\n",
       " '9.11.4',\n",
       " 'A2',\n",
       " '1',\n",
       " '1.4.7',\n",
       " 'A1',\n",
       " '1',\n",
       " 'E2',\n",
       " '1.7',\n",
       " '1',\n",
       " '1.7',\n",
       " '1',\n",
       " 'G2',\n",
       " '1',\n",
       " '2.7',\n",
       " '1',\n",
       " '2.7',\n",
       " '1',\n",
       " 'A1',\n",
       " 'A2',\n",
       " '1',\n",
       " 'A2',\n",
       " '1',\n",
       " 'A2',\n",
       " '1',\n",
       " 'A2',\n",
       " '1',\n",
       " 'A2',\n",
       " '1',\n",
       " 'A2',\n",
       " '1',\n",
       " 'A2',\n",
       " '1',\n",
       " 'A2',\n",
       " '1',\n",
       " 'F2',\n",
       " '1',\n",
       " 'F2',\n",
       " '3',\n",
       " 'F2',\n",
       " '3',\n",
       " 'F2',\n",
       " '3',\n",
       " 'F2',\n",
       " 'F3',\n",
       " 'A3',\n",
       " 'A4',\n",
       " 'F2',\n",
       " 'F3',\n",
       " 'C3',\n",
       " 'A4',\n",
       " 'F2',\n",
       " 'A4',\n",
       " 'F2',\n",
       " 'A4',\n",
       " 'F2',\n",
       " 'F4',\n",
       " 'A4',\n",
       " 'C5',\n",
       " 'D2',\n",
       " '2.5.9',\n",
       " 'A4',\n",
       " 'C5',\n",
       " 'F2',\n",
       " 'A4',\n",
       " 'C5',\n",
       " 'F2',\n",
       " 'A4',\n",
       " 'C5',\n",
       " 'A4',\n",
       " 'C5',\n",
       " 'F2',\n",
       " 'F2',\n",
       " 'A4',\n",
       " 'A4',\n",
       " 'A4',\n",
       " 'A4',\n",
       " 'A4',\n",
       " 'A4',\n",
       " 'C5',\n",
       " 'C5',\n",
       " 'D5',\n",
       " 'D5']"
      ]
     },
     "execution_count": 26,
     "metadata": {},
     "output_type": "execute_result"
    }
   ],
   "source": [
    "prediction_output"
   ]
  }
 ],
 "metadata": {
  "interpreter": {
   "hash": "14958d3aee5f1cad06795f787e54b96185c25fb40dfec723a5be941f3a531b8c"
  },
  "kernelspec": {
   "display_name": "Python 3.9.9 64-bit",
   "language": "python",
   "name": "python3"
  },
  "language_info": {
   "codemirror_mode": {
    "name": "ipython",
    "version": 3
   },
   "file_extension": ".py",
   "mimetype": "text/x-python",
   "name": "python",
   "nbconvert_exporter": "python",
   "pygments_lexer": "ipython3",
   "version": "3.9.9"
  },
  "orig_nbformat": 4
 },
 "nbformat": 4,
 "nbformat_minor": 2
}
